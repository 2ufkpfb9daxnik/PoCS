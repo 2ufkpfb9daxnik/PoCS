{
 "cells": [
  {
   "cell_type": "code",
   "execution_count": null,
   "metadata": {},
   "outputs": [],
   "source": [
    "import csv\n",
    "with open(\"test.csv\",\"r\",encoding=\"ms932\")as csv_file:\n",
    "    reader = csv.reader(csv_file, delimiter=\",\", doublequote=True, lineterminator=\"\\r\\n\", quotechar='\"', skipinitialspace=True)\n"
   ]
  },
  {
   "cell_type": "code",
   "execution_count": 3,
   "metadata": {},
   "outputs": [
    {
     "name": "stdout",
     "output_type": "stream",
     "text": [
      "['samplefood1', '2023', '12', '30']\n",
      "['samplefood1', '2023', '12', '30']\n",
      "['samplefood1', '2023', '12', '30']\n",
      "['samplefood1', '2023', '12', '30']\n",
      "['samplefood1', '2023', '12', '30']\n",
      "['samplefood1', '2023', '12', '30']\n",
      "['samplefood1', '2023', '12', '30']\n",
      "['samplefood1', '2023', '12', '30']\n",
      "['samplefood1', '2023', '12', '30']\n"
     ]
    }
   ],
   "source": [
    "import csv\n",
    "\n",
    "# CSVファイルを開く\n",
    "with open(\"../data/test.csv\", \"r\", encoding=\"ms932\") as csv_file:\n",
    "    # csv.readerを使ってリスト形式でデータを読み込む\n",
    "    reader = csv.reader(csv_file, delimiter=\",\", doublequote=True, lineterminator=\"\\r\\n\", quotechar='\"', skipinitialspace=True)\n",
    "\n",
    "    # 読み込んだデータを処理する（例：リストに格納するなど）\n",
    "    for row in reader:\n",
    "        print(row)  # 各行のデータを表示"
   ]
  }
 ],
 "metadata": {
  "kernelspec": {
   "display_name": "Python 3",
   "language": "python",
   "name": "python3"
  },
  "language_info": {
   "codemirror_mode": {
    "name": "ipython",
    "version": 3
   },
   "file_extension": ".py",
   "mimetype": "text/x-python",
   "name": "python",
   "nbconvert_exporter": "python",
   "pygments_lexer": "ipython3",
   "version": "3.11.4"
  }
 },
 "nbformat": 4,
 "nbformat_minor": 2
}
